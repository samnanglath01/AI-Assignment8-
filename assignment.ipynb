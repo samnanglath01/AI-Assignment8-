{
 "cells": [
  {
   "cell_type": "code",
   "execution_count": 5,
   "metadata": {},
   "outputs": [],
   "source": [
    "# Generating a toy dataset.\n",
    "# DO NOT MODIFY THIS PART\n",
    "\n",
    "import numpy as np\n",
    "import math\n",
    "import random as rand\n",
    "\n",
    "paras = list((rand.random() - 0.5 for _ in range(13)))\n",
    "\n",
    "def sigmoid(x):\n",
    "    return 1 / (1 + np.exp(-x))\n",
    "\n",
    "def y_gen(x):\n",
    "    h_11 = sigmoid(paras[0] * x[0] + paras[1] * x[1] + paras[2])\n",
    "    h_12 = sigmoid(paras[3] * x[0] + paras[4] * x[1] + paras[5])\n",
    "    h_13 = sigmoid(paras[6] * x[0] + paras[7] * x[1] + paras[8])\n",
    "    h_21 = sigmoid(paras[9] * h_11 + paras[10] * h_12 + paras[11] * h_13 + paras[12])\n",
    "    return h_21 + ((rand.random()-0.5)/100 if rand.random()>0.6 else 0)\n",
    "\n",
    "n = 300\n",
    "x = list(zip((rand.random() - 0.5 for _ in range(n)), (rand.random() - 0.5 for _ in range(n))))\n",
    "y = list(map(y_gen, x))\n",
    "y = [(i-min(y))/(max(y)-min(y)) for i in y]\n",
    "\n",
    "from sklearn.model_selection import train_test_split\n",
    "\n",
    "r = 0.2\n",
    "x_train_valid, x_test, y_train_valid, y_test = train_test_split(x, y, test_size=r)\n",
    "x_train, x_valid, y_train, y_valid = train_test_split(x_train_valid, y_train_valid, test_size=r)"
   ]
  },
  {
   "cell_type": "code",
   "execution_count": 6,
   "metadata": {},
   "outputs": [],
   "source": [
    "def sigmoid_derivative(x):\n",
    "    return sigmoid(x) * (1 - sigmoid(x))"
   ]
  },
  {
   "cell_type": "code",
   "execution_count": 7,
   "metadata": {},
   "outputs": [
    {
     "name": "stdout",
     "output_type": "stream",
     "text": [
      "Epoch 0, Loss: 0.03702354086884848\n"
     ]
    }
   ],
   "source": [
    "# Initialize parameters\n",
    "# Initialize parameters\n",
    "input_size = 2\n",
    "hidden_size = 3\n",
    "output_size = 1\n",
    "learning_rate = 0.1\n",
    "epochs = 10000\n",
    "\n",
    "# Seed for reproducibility\n",
    "np.random.seed(42)\n",
    "\n",
    "# Initialize weights and biases\n",
    "W1 = np.random.randn(input_size, hidden_size)\n",
    "b1 = np.zeros((1, hidden_size))\n",
    "W2 = np.random.randn(hidden_size, output_size)\n",
    "b2 = np.zeros((1, output_size))\n",
    "\n",
    "# Training loop\n",
    "for epoch in range(epochs):\n",
    "    # Shuffle the training data each epoch\n",
    "    permutation = np.random.permutation(len(x_train))\n",
    "    x_train_shuffled = np.array(x_train)[permutation]\n",
    "    y_train_shuffled = np.array(y_train)[permutation]\n",
    "\n",
    "    # Batch gradient descent\n",
    "    for i in range(len(x_train_shuffled)):\n",
    "        X = x_train_shuffled[i].reshape(1, 2)\n",
    "        y_true = y_train_shuffled[i].reshape(1, 1)\n",
    "\n",
    "        # Forward pass\n",
    "        z1 = np.dot(X, W1) + b1\n",
    "        a1 = sigmoid(z1)\n",
    "        z2 = np.dot(a1, W2) + b2\n",
    "        a2 = sigmoid(z2)\n",
    "\n",
    "        # Compute loss\n",
    "        loss = np.mean((y_true - a2)**2) / 2\n",
    "\n",
    "        # Backward pass\n",
    "        dz2 = a2 - y_true\n",
    "        dW2 = np.dot(a1.T, dz2)\n",
    "        db2 = np.sum(dz2, axis=0, keepdims=True)\n",
    "        dz1 = np.dot(dz2, W2.T) * sigmoid_derivative(z1)\n",
    "        dW1 = np.dot(X.T, dz1)\n",
    "        db1 = np.sum(dz1, axis=0, keepdims=True)\n",
    "\n",
    "        # Update weights and biases\n",
    "        W1 -= learning_rate * dW1\n",
    "        b1 -= learning_rate * db1\n",
    "        W2 -= learning_rate * dW2\n",
    "        b2 -= learning_rate * db2\n",
    "\n",
    "    # Print loss every 1000 epochs\n",
    "    if epoch % 1000 == 0:\n",
    "        print(f'Epoch {epoch}, Loss: {loss}')\n",
    "\n",
    "# Function to predict output\n",
    "def predict(X):\n",
    "    X = np.array(X).reshape(1, 2)  # Reshape in case single example is passed\n",
    "    z1 = np.dot(X, W1) + b1\n",
    "    a1 = sigmoid(z1)\n",
    "    z2 = np.dot(a1, W2) + b2\n",
    "    a2 = sigmoid(z2)\n",
    "    return np.round(a2)\n",
    "\n",
    "# Testing on validation set\n",
    "predictions = [predict(x) for x in x_valid]\n",
    "print(\"Predictions on validation set:\")\n",
    "print(predictions)\n",
    "test_predictions = predict(x_test)\n",
    "\n",
    "# Function to calculate accuracy\n",
    "def calculate_accuracy(y_true, y_pred):\n",
    "    y_true = np.array(y_true)\n",
    "    y_pred = np.array(y_pred)\n",
    "    correct = np.sum(y_true == y_pred)\n",
    "    accuracy = correct / len(y_true)\n",
    "    return accuracy\n",
    "\n",
    "# Calculate accuracy\n",
    "accuracy = calculate_accuracy(y_test, test_predictions.flatten())\n",
    "print(\"Accuracy on test set:\", accuracy)"
   ]
  },
  {
   "cell_type": "code",
   "execution_count": null,
   "metadata": {},
   "outputs": [],
   "source": []
  },
  {
   "cell_type": "code",
   "execution_count": null,
   "metadata": {},
   "outputs": [],
   "source": []
  },
  {
   "cell_type": "code",
   "execution_count": null,
   "metadata": {},
   "outputs": [],
   "source": []
  },
  {
   "cell_type": "code",
   "execution_count": null,
   "metadata": {},
   "outputs": [],
   "source": []
  },
  {
   "cell_type": "code",
   "execution_count": null,
   "metadata": {},
   "outputs": [],
   "source": []
  },
  {
   "cell_type": "code",
   "execution_count": null,
   "metadata": {},
   "outputs": [],
   "source": []
  },
  {
   "cell_type": "code",
   "execution_count": null,
   "metadata": {},
   "outputs": [],
   "source": []
  }
 ],
 "metadata": {
  "kernelspec": {
   "display_name": "Python 3",
   "language": "python",
   "name": "python3"
  },
  "language_info": {
   "codemirror_mode": {
    "name": "ipython",
    "version": 3
   },
   "file_extension": ".py",
   "mimetype": "text/x-python",
   "name": "python",
   "nbconvert_exporter": "python",
   "pygments_lexer": "ipython3",
   "version": "3.11.5"
  }
 },
 "nbformat": 4,
 "nbformat_minor": 2
}
